{
 "cells": [
  {
   "cell_type": "markdown",
   "id": "2e7b5bb5",
   "metadata": {},
   "source": [
    "## Exercise 9"
   ]
  },
  {
   "cell_type": "markdown",
   "id": "34b59b73",
   "metadata": {},
   "source": [
    "### a)"
   ]
  },
  {
   "cell_type": "markdown",
   "id": "a6ccedde",
   "metadata": {},
   "source": [
    "\\begin{equation}\n",
    "        f(\\Delta\\Psi) = \n",
    "        \\begin{cases}\n",
    "            N \\cdot \\mathrm{exp}\\left(- |\\Delta\\psi| \\cdot k \\right) & \\Delta\\Psi \\in {[}-\\pi, \\pi) \\\\ \n",
    "            0 , & \\text{sonst}\n",
    "        \\end{cases}\n",
    "\\end{equation}\n",
    "\n",
    "Calculating the normalisation constant:\n",
    "\n",
    "\\begin{align}\n",
    "    &\\int_{-\\infty}^\\infty f(\\Delta\\Psi) \\mathrm{d}\\Delta\\Psi \\stackrel{!}{=} 1 \\\\\n",
    "    &\\Leftrightarrow \\int_{-\\pi}^0 \\mathrm{e}^\\left(\\Delta\\Psi k \\right) \\mathrm{d}\\Delta\\Psi\n",
    "    + \\int_{0}^{\\pi} \\mathrm{e}^\\left(-\\Delta\\Psi k \\right) \\mathrm{d}\\Delta\\Psi = \\frac{1}{N} \\\\\n",
    "    &\\Leftrightarrow \\left[ \\frac{1}{k} \\mathrm{e}^{k \\Delta\\Psi}\\right]_{-\\pi}^0\n",
    "    - \\left[ \\frac{1}{k} \\mathrm{e}^{-k \\Delta\\Psi}\\right]_{0}^{\\pi} = \\frac{1}{N} \\\\\n",
    "    &\\Leftrightarrow \\frac{1}{k} \\left(1 - \\mathrm{e}^{-k\\pi} -\\left( \\mathrm{e}^{-k\\pi} -1 \\right)\\right) = \\frac{1}{N} \\\\\n",
    "    &\\Leftrightarrow N = \\frac{k}{2\\left(1-\\mathrm{e}^{-k\\pi}\\right)}\n",
    "\\end{align}"
   ]
  },
  {
   "cell_type": "markdown",
   "id": "d268f55a",
   "metadata": {},
   "source": [
    "### b)"
   ]
  },
  {
   "cell_type": "markdown",
   "id": "e2c6f145",
   "metadata": {},
   "source": [
    "The CDF of a Distributions is calculated via:\n",
    "\\begin{equation}\n",
    "    \\mathrm{CDF}(x) = \\int_{-\\infty}^x \\mathrm{PDF}(\\tilde{x}) \\mathrm{d}\\tilde{x}\n",
    "\\end{equation}"
   ]
  },
  {
   "cell_type": "markdown",
   "id": "d50b9299",
   "metadata": {},
   "source": [
    "#### case 1: $x < -\\pi$"
   ]
  },
  {
   "cell_type": "markdown",
   "id": "24050c22",
   "metadata": {},
   "source": [
    "\\begin{equation}\n",
    "    \\mathrm{CDF}(\\Delta\\Psi) = 0\n",
    "\\end{equation} "
   ]
  },
  {
   "cell_type": "markdown",
   "id": "c7fc600e",
   "metadata": {},
   "source": [
    "#### case 2: $-\\pi \\leq x \\leq 0$"
   ]
  },
  {
   "cell_type": "markdown",
   "id": "3e2ccb9d",
   "metadata": {},
   "source": [
    "\\begin{align}\n",
    "    \\mathrm{CDF}(\\Delta\\Psi) &= N \\cdot \\int_{-\\pi}^{\\Delta\\Psi} \\mathrm{e}^{kx} \\mathrm{d}x \\\\\n",
    "    &= N \\cdot \\left[\\frac{1}{k} \\mathrm{e}^{kx} \\right]_{-\\pi}^{\\Delta\\Psi} \\\\\n",
    "    &= \\frac{N}{k} \\cdot \\left(\\mathrm{e}^{k\\Delta\\Psi} - \\mathrm{e}^{-k\\pi}\\right) \\\\\n",
    "    &= \\frac{1}{2} \\frac{\\mathrm{e}^{k\\Delta\\Psi} - \\mathrm{e}^{-k\\pi}}{1 - \\mathrm{e}^{-k\\pi}}\n",
    "\\end{align}"
   ]
  },
  {
   "cell_type": "markdown",
   "id": "e9f3221b",
   "metadata": {},
   "source": [
    "#### case 3: $0 < x \\leq \\pi$"
   ]
  },
  {
   "cell_type": "markdown",
   "id": "be8bcc6b",
   "metadata": {},
   "source": [
    "\\begin{align}\n",
    "    \\mathrm{CDF}(\\Delta\\Psi) &= N \\left[ \\cdot \\int_{-\\pi}^{0} \\mathrm{e}^{kx} \\mathrm{d}x \n",
    "    + \\int_{0}^{\\Delta\\Psi} \\mathrm{e}^{-kx} \\mathrm{d}x \\right] \\\\\n",
    "    &= \\frac{N}{k} \\cdot \\left(1 - \\mathrm{e}^{-k\\pi} - \\left[ \\mathrm{e}^{-kx} \\right]_0^{\\Delta\\Psi} \\right) \\\\\n",
    "    &= \\frac{N}{k} \\cdot \\left(1 - \\mathrm{e}^{-k\\pi} - \\mathrm{e}^{-k\\Delta\\Psi} + 1 \\right) \\\\\n",
    "    &= \\frac{1}{2} \\frac{1 - \\mathrm{e}^{-k\\pi} + 1 - \\mathrm{e}^{-k\\Delta\\Psi}}{1-\\mathrm{e}^{-k\\pi}} \\\\\n",
    "    &= \\frac{1}{2} \\left( 1 + \\frac{1 - \\mathrm{e}^{-k\\Delta\\Psi}}{1-\\mathrm{e}^{-k\\pi}} \\right)\n",
    "\\end{align}"
   ]
  },
  {
   "cell_type": "markdown",
   "id": "745921a6",
   "metadata": {},
   "source": [
    "#### case 4: $x > \\pi$"
   ]
  },
  {
   "cell_type": "markdown",
   "id": "fed3d48e",
   "metadata": {},
   "source": [
    "\\begin{equation}\n",
    "    \\mathrm{CDF}(\\Delta\\Psi) = 1\n",
    "\\end{equation} "
   ]
  },
  {
   "cell_type": "markdown",
   "id": "8c8e4a82",
   "metadata": {},
   "source": [
    "### c)"
   ]
  },
  {
   "cell_type": "markdown",
   "id": "4fcee675",
   "metadata": {},
   "source": [
    "The PPF is the inverse of the CDF. It is only defined for $x \\in [0,1]$"
   ]
  },
  {
   "cell_type": "markdown",
   "id": "7f27f58d",
   "metadata": {},
   "source": [
    "\\begin{equation}\n",
    "    \\mathrm{CDF}(\\Delta\\Psi) = \n",
    "    \\begin{cases}\n",
    "        \\frac{1}{2} \\frac{\\mathrm{e}^{k\\Delta\\Psi} - \\mathrm{e}^{-k\\pi}}{1 - \\mathrm{e}^{-k\\pi}} &\n",
    "        -\\pi \\leq x \\leq 0 \\\\\n",
    "        \\frac{1}{2} \\left( 1 + \\frac{1 - \\mathrm{e}^{-k\\Delta\\Psi}}{1-\\mathrm{e}^{-k\\pi}} \\right) &\n",
    "        0 < x \\leq \\pi \\\\\n",
    "    \\end{cases}\n",
    "\\end{equation}"
   ]
  },
  {
   "cell_type": "markdown",
   "id": "15df9100",
   "metadata": {},
   "source": [
    "We need to seperate the cases $y = \\mathrm{CDF}(x)$, $y \\in [0, 0.5]$ and $y \\in (0.5, 1]$ ($\\Delta\\Psi := x$)"
   ]
  },
  {
   "cell_type": "markdown",
   "id": "fca6760a",
   "metadata": {},
   "source": [
    "#### case a: $y \\in [0, 0.5]$"
   ]
  },
  {
   "cell_type": "markdown",
   "id": "79b6712c",
   "metadata": {},
   "source": [
    "\\begin{align}\n",
    "    &y = \\frac{1}{2} \\frac{\\mathrm{e}^{kx} - \\mathrm{e}^{-k\\pi}}{1 - \\mathrm{e}^{-k\\pi}} \\\\\n",
    "    \\Leftrightarrow &2y \\cdot (1 - \\mathrm{e}^{-k\\pi}) + \\mathrm{e}^{-k\\pi} = \\mathrm{e}^{kx} \\\\\n",
    "    \\Leftrightarrow & x = \\frac{1}{k} \\mathrm{log}\\left(2y(1 - \\mathrm{e}^{-k\\pi}) + \\mathrm{e}^{-k\\pi} \\right)\n",
    "\\end{align}"
   ]
  },
  {
   "cell_type": "markdown",
   "id": "2fa3fd70",
   "metadata": {},
   "source": [
    "#### case b: $y \\in (0.5, 1]$"
   ]
  },
  {
   "cell_type": "markdown",
   "id": "3ab967f0",
   "metadata": {},
   "source": [
    "\\begin{align}\n",
    "    & y = \\frac{1}{2} \\left( 1 + \\frac{1 - \\mathrm{e}^{-kx}}{1-\\mathrm{e}^{-k\\pi}} \\right) \\\\\n",
    "    \\Leftrightarrow &-(2y-1)(1-\\mathrm{e}^{-k\\pi}) + 1 = \\mathrm{e}^{-kx} \\\\ \n",
    "    \\Leftrightarrow & x = -\\frac{1}{k} \\mathrm{log}\\left(1 - (2y-1)(1-\\mathrm{e}^{-k\\pi}) \\right)\n",
    "\\end{align}"
   ]
  },
  {
   "cell_type": "markdown",
   "id": "38553a42",
   "metadata": {},
   "source": [
    "So the PPF is given by:\n",
    "\n",
    "\\begin{equation}\n",
    "    \\mathrm{PPF}(x) = \\frac{1}{k}\n",
    "    \\begin{cases}\n",
    "        \\mathrm{log}\\left(2x(1 - \\mathrm{e}^{-k\\pi}) + \\mathrm{e}^{-k\\pi} \\right) & 0 \\leq x \\leq \\frac{1}{2} \\\\\n",
    "        -\\mathrm{log}\\left(1 - (2x-1)(1-\\mathrm{e}^{-k\\pi}) \\right) & \\frac{1}{2} < x \\leq 1\n",
    "    \\end{cases}\n",
    "\\end{equation}"
   ]
  },
  {
   "cell_type": "markdown",
   "id": "71d658c3",
   "metadata": {},
   "source": [
    "## Exercise 10"
   ]
  },
  {
   "cell_type": "markdown",
   "id": "05f3578f",
   "metadata": {},
   "source": [
    "### c)"
   ]
  },
  {
   "cell_type": "markdown",
   "id": "943802e1",
   "metadata": {},
   "source": [
    "The scattering length can not exceed the absorption legnth of the particle. \n",
    "Due to that reason, long scattering lengths are more unlikely or even impossible.\n",
    "For example we can look at a particle, that already traveled a certain distance. The next random scattering length that follows\n",
    "the exponential distribution might exceed the absorption length. The particle is now absorbed after a shorter distance, which results in a smaller mean of the scattering length."
   ]
  }
 ],
 "metadata": {
  "kernelspec": {
   "display_name": "Python 3 (ipykernel)",
   "language": "python",
   "name": "python3"
  },
  "language_info": {
   "codemirror_mode": {
    "name": "ipython",
    "version": 3
   },
   "file_extension": ".py",
   "mimetype": "text/x-python",
   "name": "python",
   "nbconvert_exporter": "python",
   "pygments_lexer": "ipython3",
   "version": "3.10.4"
  }
 },
 "nbformat": 4,
 "nbformat_minor": 5
}
