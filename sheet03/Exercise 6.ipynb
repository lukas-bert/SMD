{
 "cells": [
  {
   "cell_type": "markdown",
   "id": "59b96127",
   "metadata": {},
   "source": [
    "# Exercise 6"
   ]
  },
  {
   "cell_type": "markdown",
   "id": "afebc791",
   "metadata": {},
   "source": [
    "## a)"
   ]
  },
  {
   "cell_type": "markdown",
   "id": "d3cc7a31",
   "metadata": {},
   "source": [
    "$f(x) = \\begin{cases} N \\mathrm{e}^{-x/\\tau} \\qquad 0 \\leq x < \\infty \\\\ 0 \\qquad \\qquad else \\end{cases}$"
   ]
  },
  {
   "cell_type": "markdown",
   "id": "28f1fa72",
   "metadata": {},
   "source": [
    "#### Determination of normilization constant $N$:\n"
   ]
  },
  {
   "cell_type": "markdown",
   "id": "2013d493",
   "metadata": {},
   "source": [
    "$\\int_0^\\infty N \\mathrm{e}^{-x/\\tau} \\mathrm{d}x \\stackrel{!}{=} 1$\n",
    "\n",
    "$\\Leftrightarrow N\\lbrack -\\tau \\cdot \\mathrm{e}^{-x/\\tau}\\rbrack_0^\\infty = N \\cdot \\tau = 1$\n",
    "\n",
    "$\\Leftrightarrow N = \\frac{1}{\\tau}$"
   ]
  },
  {
   "cell_type": "markdown",
   "id": "e8d75b91",
   "metadata": {},
   "source": [
    "#### Transformation of uniform Distribution $u$ to  $x$  with propability density  $f(x)$:\n"
   ]
  },
  {
   "cell_type": "markdown",
   "id": "c911e7a8",
   "metadata": {},
   "source": [
    "$u = F(x) = \\lbrack -\\mathrm{e}^{-y/\\tau} \\rbrack_0^x = -\\mathrm{e}^{-x/\\tau} + 1$\n",
    "\n",
    "$\\Leftrightarrow 1- u = \\mathrm{e}^{-x/\\tau} \\qquad |\\mathrm{ln}(...)$  \n",
    "\n",
    "$1-u \\in \\lbrack 0,1 \\rbrack$, because $u \\in \\lbrack 0,1 \\rbrack$\n",
    "\n",
    "$\\Leftrightarrow \\mathrm{ln}(1-u) = -x/\\tau$\n",
    "\n",
    "$\\Leftrightarrow x = -\\mathrm{ln}(1-u)\\cdot \\tau$"
   ]
  },
  {
   "cell_type": "markdown",
   "id": "a28a665c",
   "metadata": {},
   "source": [
    "## b)"
   ]
  },
  {
   "cell_type": "markdown",
   "id": "385dd20c",
   "metadata": {},
   "source": [
    "$f(x) = \\begin{cases} N x^{-n} \\qquad x_\\text{min} \\leq x \\leq x_\\text{max} \\\\ 0 \\qquad \\qquad else \\end{cases}$"
   ]
  },
  {
   "cell_type": "markdown",
   "id": "119b03e5",
   "metadata": {},
   "source": [
    "#### Determination of normilization constant $N$:\n"
   ]
  },
  {
   "cell_type": "markdown",
   "id": "cf076f57",
   "metadata": {},
   "source": [
    "$\\int_{x_\\text{min}}^{x_\\text{max}} N x^{-n} \\mathrm{d}x \\stackrel{!}{=} 1$\n",
    "\n",
    "$\\Leftrightarrow N\\lbrack \\frac{1}{1-n} x^{1-n}\\rbrack_{x_\\text{min}}^{x_\\text{max}} = 1$\n",
    "\n",
    "$\\Leftrightarrow N \\frac{1}{1-n} \\left( x_\\text{max}^{1-n} - x_\\text{min}^{1-n} \\right) = 1$\n",
    "\n",
    "$\\Leftrightarrow N = \\frac{1-n}{x_\\text{max}^{1-n} - x_\\text{min}^{1-n}}$"
   ]
  },
  {
   "cell_type": "markdown",
   "id": "41a23ea2",
   "metadata": {},
   "source": [
    "#### Transformation of uniform Distribution $u$ to  $x$  with propability density  $f(x)$:"
   ]
  },
  {
   "cell_type": "markdown",
   "id": "7e800e35",
   "metadata": {},
   "source": [
    "$u = F(x) = N \\lbrack \\frac{y^{1-n}}{1-n} \\rbrack_{x_\\text{min}}^x$\n",
    "\n",
    "$\\Leftrightarrow \\frac{u(1-n)}{N} = x^{1-n} - x_\\text{min}^{1-n}$\n",
    "\n",
    "$\\Leftrightarrow x^{1-n} = \\frac{u(1-n)}{N} + x_\\text{min}^{1-n}$\n",
    "\n",
    "$\\Leftrightarrow x = \\sqrt[1-n]{\\frac{u(1-n)}{N} + x_\\text{min}^{1-n}} \\qquad  | N = \\frac{1-n}{x_\\text{max}^{1-n} - x_\\text{min}^{1-n}}$\n",
    "\n",
    "$\\Leftrightarrow x = \\sqrt[1-n]{u(x_\\text{max}^{1-n} - x_\\text{min}^{1-n}) + x_\\text{min}^{1-n}}$\n",
    "\n",
    "$\\Leftrightarrow x = x_\\text{min}\\sqrt[1-n]{u\\left((\\frac{x_\\text{max}}{x_\\text{min}})^{1-n} - 1\\right) + 1}$"
   ]
  },
  {
   "cell_type": "markdown",
   "id": "e199fbeb",
   "metadata": {},
   "source": [
    "## c)"
   ]
  },
  {
   "cell_type": "markdown",
   "id": "a5cc9f1a",
   "metadata": {},
   "source": [
    "$f(x) = \\frac{1}{\\mathrm{\\pi}} \\frac{1}{1+x^2}$"
   ]
  },
  {
   "cell_type": "markdown",
   "id": "765023d7",
   "metadata": {},
   "source": [
    "#### Transformation of uniform Distribution $u$ to  $x$  with propability density  $f(x)$:\n"
   ]
  },
  {
   "cell_type": "markdown",
   "id": "fc60e96d",
   "metadata": {},
   "source": [
    "$u = F(x) = \\frac{1}{\\mathrm{\\pi}}\\int_{-\\infty}^{x} \\frac{1}{1+y^2} \\mathrm{d}y$\n",
    "\n",
    "$\\Leftrightarrow \\mathrm{\\pi} \\cdot u = \\mathrm{arctan}(x) + \\frac{\\mathrm{\\pi}}{2}$\n",
    "\n",
    "$\\Leftrightarrow x = \\mathrm{tan}\\left(\\mathrm{\\pi}\\left(u -\\frac{1}{2} \\right)\\right)$"
   ]
  }
 ],
 "metadata": {
  "kernelspec": {
   "display_name": "Python 3 (ipykernel)",
   "language": "python",
   "name": "python3"
  },
  "language_info": {
   "codemirror_mode": {
    "name": "ipython",
    "version": 3
   },
   "file_extension": ".py",
   "mimetype": "text/x-python",
   "name": "python",
   "nbconvert_exporter": "python",
   "pygments_lexer": "ipython3",
   "version": "3.10.4"
  }
 },
 "nbformat": 4,
 "nbformat_minor": 5
}
