{
 "cells": [
  {
   "cell_type": "markdown",
   "id": "c773e82d",
   "metadata": {},
   "source": [
    "### Exercise 13"
   ]
  },
  {
   "cell_type": "markdown",
   "id": "0496ebfe",
   "metadata": {},
   "source": [
    "## c)\n"
   ]
  },
  {
   "cell_type": "code",
   "execution_count": 1,
   "id": "730ac3c9",
   "metadata": {
    "scrolled": true
   },
   "outputs": [
    {
     "data": {
      "image/png": "[encoded data removed]",
      "text/plain": [
       "<Figure size 432x288 with 1 Axes>"
      ]
     },
     "metadata": {
      "needs_background": "light"
     },
     "output_type": "display_data"
    }
   ],
   "source": [
    "import numpy as np\n",
    "import matplotlib.pyplot as plt\n",
    "import matplotlib.axes as ax\n",
    "import sympy as smp\n",
    "\n",
    "#define populations per axis\n",
    "pop0x = [1, 2, 1.5, 2, 2, 3]\n",
    "pop0y = [1, 1, 2, 2, 3, 3]\n",
    "pop1x = [1.5, 2.5, 3.5, 2.5, 3.5, 4.5]\n",
    "pop1y = [1, 1, 1, 2, 2, 2]\n",
    "#linspace for the plot below. the vector lambda doesnt need limitaions, but limitations are used here to make a better plot.\n",
    "# the limitation -2.5 is the lambda_cut \n",
    "x = np.linspace(-6, -2.5)\n",
    "#plot of the data and lambda with a cutoff at lambda_cut\n",
    "fig = plt.figure()\n",
    "axx = fig.add_subplot(111, aspect='equal')\n",
    "axx.scatter(pop0x, pop0y, c = \"cornflowerblue\")\n",
    "axx.scatter(pop1x, pop1y, c = \"firebrick\")\n",
    "axx.plot(-(370/1447)*x,(367/1447)*x)\n",
    "\n",
    "# d)\n",
    "#the following to functions create the projection onto lambda\n",
    "def H(x,y,param1,param2):\n",
    "    return param1*x+param2*y\n",
    "def projection(x1,y1,x2,y2,param1,param2):\n",
    "    \n",
    "   \n",
    "    a = H(x1,y1,param1,param2)\n",
    "    b = H(x2,y2,param1,param2)\n",
    "\n",
    "    s, t = smp.symbols('s, t', real = True)\n",
    "    s_1 = smp.solve(param1*(param1*s)+param2*(param2*s)-a,s)\n",
    "    s_2 = smp.solve(param1*(param1*t)+param2*(param2*t)-b,t)\n",
    "\n",
    "    return [s_1,s_2]\n",
    "\n",
    "#projection of each datapoint onto lambda\n",
    "for i in range(len(pop0x)):\n",
    "    p = projection(pop0x[i],pop0y[i],pop1x[i],pop1y[i],-370,367)\n",
    "    axx.scatter(-370*p[0][0],367*p[0][0], c = \"cornflowerblue\")\n",
    "    axx.scatter(-370*p[1][0],367*p[1][0], c = \"firebrick\")\n",
    "\n",
    "\n"
   ]
  },
  {
   "cell_type": "markdown",
   "id": "85f627e6",
   "metadata": {},
   "source": [
    "### e)\n",
    "$\\lambda_\\text{cut} = -2.5$ is choosen, because with this $\\lambda_\\text{cut}$ we have no false true datapoints. The rusulting vector, with $\\forall \\lambda < -2.5$, is shown in the above output.  "
   ]
  },
  {
   "cell_type": "markdown",
   "id": "7837803b",
   "metadata": {},
   "source": [
    "## Exercise 13"
   ]
  },
  {
   "cell_type": "code",
   "execution_count": 2,
   "id": "2f066fe7",
   "metadata": {},
   "outputs": [
    {
     "data": {
      "text/plain": [
       "<matplotlib.collections.PathCollection at 0x7f9a533a5550>"
      ]
     },
     "execution_count": 2,
     "metadata": {},
     "output_type": "execute_result"
    },
    {
     "data": {
      "image/png": "[encoded data removed]",
      "text/plain": [
       "<Figure size 432x288 with 1 Axes>"
      ]
     },
     "metadata": {
      "needs_background": "light"
     },
     "output_type": "display_data"
    }
   ],
   "source": [
    "import pandas as pd\n",
    "import numpy as np\n",
    "import numpy.linalg as alg\n",
    "import matplotlib.pyplot as plt\n",
    "import matplotlib.axes as ax\n",
    "#reading the data from the .h5-file\n",
    "p0 = pd.read_hdf('two_populations.h5', key='P_0_10000')\n",
    "p1 = pd.read_hdf('two_populations.h5', key='P_1')\n",
    "p0_1000 = pd.read_hdf('two_populations.h5' ,key='P_0_1000')\n",
    "# a)\n",
    "#converting pd.dataframe into numpy arrays\n",
    "p0n = p0.to_numpy()\n",
    "p1n = p1.to_numpy()\n",
    "#calculation of the mean vectors\n",
    "mu1 = [np.mean(p0n[:,0]), np.mean(p0n[:,1])]\n",
    "mu2 = [np.mean(p1n[:,0]), np.mean(p1n[:,1])]\n",
    "#print(p0)\n",
    "\n",
    "# b)\n",
    "#calculation of the covariance matrices\n",
    "VP1 = np.cov([p0n[:,0], p0n[:,1]])\n",
    "#print(VP1)\n",
    "\n",
    "VP2 = np.cov([p1n[:,0], p1n[:,1]])\n",
    "#print(VP2)\n",
    "\n",
    "VP12 = VP1 + VP2\n",
    "#print(VP12)\n",
    "\n",
    "# c) \n",
    "#calculation and plot of lambda with the data\n",
    "e_lam = np.matmul(alg.inv(VP12),[mu1[0]-mu2[0],mu1[1]-mu2[1]])\n",
    "\n",
    "#print(e_lam)\n",
    "\n",
    "x = np.linspace(-5,5,10000)\n",
    "fig = plt.figure()\n",
    "axd = fig.add_subplot(111, aspect='equal')\n",
    "axd.scatter(p0n[:,0], p0n[:,1])\n",
    "axd.scatter(p1n[:,0], p1n[:,1])\n",
    "axd.plot(e_lam[0]*x,e_lam[1]*x)\n",
    "\n",
    "# d)\n",
    "\n",
    "x1 = np.zeros(len(p0n[:,0]))\n",
    "x2 = np.zeros(len(p0n[:,0]))\n",
    "x3 = np.zeros(len(p0n[:,0]))\n",
    "x4 = np.zeros(len(p0n[:,0]))\n",
    "for i in range(len(p0n[:,0])):\n",
    "    p = projection(p0n[:,0][i],p0n[:,1][i],p1n[:,0][i],p1n[:,1][i],e_lam[0],e_lam[1])\n",
    "    #print(p[0][0])\n",
    "    x1[i] = p[0][0]\n",
    "    #x2[i] = e_lam[1]*p[0][0]\n",
    "    x3[i] = p[1][0]\n",
    "    #x4[i] = e_lam[1]*p[1][0]\n",
    "    #print(\"p00\",i,p[0][0])\n",
    "    #print(\"p10\",p[1][0])\n",
    "#print(\"x1\",x1)\n",
    "#print(\"x3\",x3)\n",
    "#print(e_lam[0])\n",
    "#print(e_lam[1])\n",
    "axd.scatter(e_lam[0]*x1,e_lam[1]*x1, c = \"cornflowerblue\")\n",
    "axd.scatter(e_lam[0]*x3,e_lam[1]*x3, c = \"firebrick\")"
   ]
  },
  {
   "cell_type": "code",
   "execution_count": null,
   "id": "a614fe10",
   "metadata": {},
   "outputs": [],
   "source": []
  }
 ],
 "metadata": {
  "kernelspec": {
   "display_name": "Python 3 (ipykernel)",
   "language": "python",
   "name": "python3"
  },
  "language_info": {
   "codemirror_mode": {
    "name": "ipython",
    "version": 3
   },
   "file_extension": ".py",
   "mimetype": "text/x-python",
   "name": "python",
   "nbconvert_exporter": "python",
   "pygments_lexer": "ipython3",
   "version": "3.8.8"
  }
 },
 "nbformat": 4,
 "nbformat_minor": 5
}
