{
 "cells": [
  {
   "cell_type": "markdown",
   "id": "5604dee0",
   "metadata": {},
   "source": [
    "# Exercise 20"
   ]
  },
  {
   "cell_type": "markdown",
   "id": "018aba7e",
   "metadata": {},
   "source": [
    "## a)"
   ]
  },
  {
   "cell_type": "markdown",
   "id": "b450b9f8",
   "metadata": {},
   "source": [
    "The algorithm will almost only generate clusters based on the feature with the biggest magnitude\n",
    "because the euklidian distance is calculated using the difference in each feature.\n",
    "A solution is to scale the data, so that all attributes have similar magnitudes."
   ]
  },
  {
   "cell_type": "markdown",
   "id": "0bcff15b",
   "metadata": {},
   "source": [
    "## b)"
   ]
  },
  {
   "cell_type": "markdown",
   "id": "e380e6f4",
   "metadata": {},
   "source": [
    "The $k$-$NN$ algorithm is a very simple algorithm. It is called a \"lazy learner\" because it does not learn some sort of decision function, but memorizes the data instead.\n",
    "Therefore you have no real \"training time\" for $k$-$NN$, but the predictions are more resource expensive.\n",
    "\n",
    "Other classifiers like a random forest have a learning phase which needs a certain amount of time but are faster in the classification itself. Exspacially for high dimensional data with many points $k$-$NN$ gets very slow, while a random forest still performs good."
   ]
  },
  {
   "cell_type": "markdown",
   "id": "41ec5e2e",
   "metadata": {},
   "source": [
    "## c)"
   ]
  },
  {
   "cell_type": "code",
   "execution_count": 1,
   "id": "687a507e",
   "metadata": {},
   "outputs": [],
   "source": [
    "import numpy as np\n",
    "import pandas as pd\n",
    "\n",
    "# read data\n",
    "S = pd.read_hdf(\"NeutrinoMC.hdf5\", key = \"Signal\")\n",
    "B = pd.read_hdf(\"NeutrinoMC.hdf5\", key = \"Background\")"
   ]
  },
  {
   "cell_type": "code",
   "execution_count": 2,
   "id": "239fd0c5",
   "metadata": {},
   "outputs": [],
   "source": [
    "import statistics\n",
    "from statistics import mode\n",
    "\n",
    "class KNN:\n",
    "    '''KNN Classifier.\n",
    "\n",
    "    Attributes\n",
    "    ----------\n",
    "    k : int\n",
    "        Number of neighbors to consider.\n",
    "    '''\n",
    "    def __init__(self, k):\n",
    "        '''Initialization.\n",
    "        Parameters are stored as member variables/attributes.\n",
    "        \n",
    "        Parameters\n",
    "        ----------\n",
    "        k : int\n",
    "            Number of neighbors to consider.\n",
    "        '''\n",
    "        self.k = k\n",
    "\n",
    "    def fit(self, X, y):\n",
    "        '''Fit routine.\n",
    "        Training data is stored within object.\n",
    "        \n",
    "        Parameters\n",
    "        ----------\n",
    "        X : numpy.array, shape=(n_samples, n_attributes)\n",
    "            Training data.\n",
    "        y : numpy.array shape=(n_samples)\n",
    "            Training labels.\n",
    "        '''\n",
    "        self.X_train = X\n",
    "        self.y_train = y\n",
    "\n",
    "    def predict(self, X):\n",
    "        '''Prediction routine.\n",
    "        Predict class association of each sample of X.\n",
    "        \n",
    "        Parameters\n",
    "        ----------\n",
    "        X : numpy.array, shape=(n_samples, n_attributes)\n",
    "            Data to classify.\n",
    "        \n",
    "        Returns\n",
    "        -------\n",
    "        prediction : numpy.array, shape=(n_samples)\n",
    "            Predictions, containing the predicted label of each sample.\n",
    "        '''\n",
    "        prediction = []\n",
    "        \n",
    "        for x_test in X: # loop over all test data\n",
    "            \n",
    "            distances = np.zeros(len(self.X_train))\n",
    "            \n",
    "            for i in range(len(distances)): # Calculate distance to all training data points\n",
    "                distances[i] = np.linalg.norm(x_test - self.X_train[i])\n",
    "            #distances = np.linalg.norm(x_test - self.X_train)\n",
    "            \n",
    "            indices = np.argsort(distances) # sort for smallest distance\n",
    "            \n",
    "            # find most frequent label for k nearest neighbors\n",
    "            keys = []\n",
    "            for k in range(self.k):\n",
    "                keys.append(self.y_train[indices[k]])\n",
    "                \n",
    "            prediction.append(mode(keys))    # mode(list) returns most freqeunt item in list\n",
    "            \n",
    "        return prediction"
   ]
  },
  {
   "cell_type": "markdown",
   "id": "2559fda2",
   "metadata": {},
   "source": [
    "## d)"
   ]
  },
  {
   "cell_type": "code",
   "execution_count": 3,
   "id": "89d197fe",
   "metadata": {
    "scrolled": true
   },
   "outputs": [],
   "source": [
    "signals = S[[\"NumberOfHits\", \"x\", \"y\"]][S[\"x\"].notna() * S[\"y\"].notna() * S[\"NumberOfHits\"].notna()]\n",
    "background = B[[\"NumberOfHits\", \"x\", \"y\"]]\n",
    "events = pd.concat([signals, background])\n",
    "labels = [\"Signal\"]*len(signals)\n",
    "labels.extend([\"Background\"]*len(background))\n",
    "\n",
    "n_signal = 10000\n",
    "n_background = 20000\n",
    "\n",
    "X_train = np.array(pd.concat([events[:2500], events[30000:32500]]))\n",
    "y_train = labels[:2500]\n",
    "y_train.extend(labels[30000:32500])\n",
    "y_train = np.array(y_train)\n",
    "\n",
    "X_test = np.array(pd.concat([events[5000:(5000 + n_signal)], events[40000:(40000 + n_background)]]))\n",
    "y_test = labels[5000:(5000 + n_signal)]\n",
    "y_test.extend(labels[40000:(40000 + n_background)])\n",
    "y_test = np.array(y_test)"
   ]
  },
  {
   "cell_type": "code",
   "execution_count": 4,
   "id": "e9051868",
   "metadata": {},
   "outputs": [],
   "source": [
    "# Applying fit and prediction with k = 10\n",
    "knn10 = KNN(k = 10)\n",
    "\n",
    "knn10.fit(X_train, y_train)\n",
    "\n",
    "result = knn10.predict(X_test)"
   ]
  },
  {
   "cell_type": "code",
   "execution_count": 13,
   "id": "91d1d0c2",
   "metadata": {},
   "outputs": [
    {
     "name": "stdout",
     "output_type": "stream",
     "text": [
      "precision:  0.9573\n",
      "recall   :  0.8282574839937705\n",
      "accuracy :  0.9196\n"
     ]
    }
   ],
   "source": [
    "tp = len(y_test[(y_test == result) * (y_test == \"Signal\")])\n",
    "tn = len(y_test[(y_test == result) * (y_test == \"Background\")])\n",
    "fn = len(y_test[(y_test != result) * (y_test == \"Background\")])\n",
    "fp = len(y_test[(y_test != result) * (y_test == \"Signal\")])\n",
    "\n",
    "precision = tp/(tp + fp)\n",
    "recall = tp/(tp + fn)\n",
    "accuracy = (tp + tn)/(n_signal + n_background)\n",
    "\n",
    "print(\"precision: \", precision)\n",
    "print(\"recall   : \", recall)\n",
    "print(\"accuracy : \", accuracy)"
   ]
  },
  {
   "cell_type": "markdown",
   "id": "78b95083",
   "metadata": {},
   "source": [
    "## e)"
   ]
  },
  {
   "cell_type": "code",
   "execution_count": 6,
   "id": "80a629e0",
   "metadata": {},
   "outputs": [],
   "source": [
    "X_train_log10 = X_train\n",
    "X_test_log10 = X_test\n",
    "\n",
    "\n",
    "X_train_log10[:,0] = np.log10(X_train_log10[:,0])\n",
    "X_test_log10[:,0] = np.log10(X_test_log10[:,0])"
   ]
  },
  {
   "cell_type": "code",
   "execution_count": 7,
   "id": "e9ed25e2",
   "metadata": {},
   "outputs": [],
   "source": [
    "knn10.fit(X_train_log10, y_train)\n",
    "\n",
    "result2 = knn10.predict(X_test_log10)"
   ]
  },
  {
   "cell_type": "code",
   "execution_count": 12,
   "id": "69432042",
   "metadata": {},
   "outputs": [
    {
     "name": "stdout",
     "output_type": "stream",
     "text": [
      "precision:  0.9833\n",
      "recall   :  0.8617123827885373\n",
      "accuracy :  0.9418333333333333\n"
     ]
    }
   ],
   "source": [
    "tp = len(y_test[(y_test == result2) * (y_test == \"Signal\")])\n",
    "tn = len(y_test[(y_test == result2) * (y_test == \"Background\")])\n",
    "fn = len(y_test[(y_test != result2) * (y_test == \"Background\")])\n",
    "fp = len(y_test[(y_test != result2) * (y_test == \"Signal\")])\n",
    "\n",
    "precision = tp/(tp + fp)\n",
    "recall = tp/(tp + fn)\n",
    "accuracy = (tp + tn)/(n_signal + n_background)\n",
    "\n",
    "print(\"precision: \", precision)\n",
    "print(\"recall   : \", recall)\n",
    "print(\"accuracy : \", accuracy)"
   ]
  },
  {
   "cell_type": "markdown",
   "id": "310200a3",
   "metadata": {},
   "source": [
    "## f)"
   ]
  },
  {
   "cell_type": "code",
   "execution_count": 9,
   "id": "b163f5da",
   "metadata": {},
   "outputs": [],
   "source": [
    "knn20 = KNN(k = 20)\n",
    "\n",
    "knn20.fit(X_train, y_train)\n",
    "\n",
    "result3 = knn10.predict(X_test)"
   ]
  },
  {
   "cell_type": "code",
   "execution_count": 11,
   "id": "70b76f25",
   "metadata": {},
   "outputs": [
    {
     "name": "stdout",
     "output_type": "stream",
     "text": [
      "precision:  0.9833\n",
      "recall   :  0.8617123827885373\n",
      "accuracy :  0.9418333333333333\n"
     ]
    }
   ],
   "source": [
    "tp = len(y_test[(y_test == result3) * (y_test == \"Signal\")])\n",
    "tn = len(y_test[(y_test == result3) * (y_test == \"Background\")])\n",
    "fn = len(y_test[(y_test != result3) * (y_test == \"Background\")])\n",
    "fp = len(y_test[(y_test != result3) * (y_test == \"Signal\")])\n",
    "\n",
    "precision = tp/(tp + fp)\n",
    "recall = tp/(tp + fn)\n",
    "accuracy = (tp + tn)/(n_signal + n_background)\n",
    "\n",
    "print(\"precision: \", precision)\n",
    "print(\"recall   : \", recall)\n",
    "print(\"accuracy : \", accuracy)"
   ]
  },
  {
   "cell_type": "code",
   "execution_count": null,
   "id": "0399706d",
   "metadata": {},
   "outputs": [],
   "source": []
  }
 ],
 "metadata": {
  "kernelspec": {
   "display_name": "Python 3 (ipykernel)",
   "language": "python",
   "name": "python3"
  },
  "language_info": {
   "codemirror_mode": {
    "name": "ipython",
    "version": 3
   },
   "file_extension": ".py",
   "mimetype": "text/x-python",
   "name": "python",
   "nbconvert_exporter": "python",
   "pygments_lexer": "ipython3",
   "version": "3.10.4"
  }
 },
 "nbformat": 4,
 "nbformat_minor": 5
}
