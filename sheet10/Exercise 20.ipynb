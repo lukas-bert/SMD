{
 "cells": [
  {
   "cell_type": "markdown",
   "id": "5604dee0",
   "metadata": {},
   "source": [
    "# Exercise 20"
   ]
  },
  {
   "cell_type": "markdown",
   "id": "018aba7e",
   "metadata": {},
   "source": [
    "## a)"
   ]
  },
  {
   "cell_type": "markdown",
   "id": "b450b9f8",
   "metadata": {},
   "source": [
    "The algorithm will almost only generate clusters based on the feature with the biggest magnitude\n",
    "because the euklidian distance is calculated using the difference in each feature.\n",
    "A solution is to scale the data, so that all attributes have similar magnitudes."
   ]
  },
  {
   "cell_type": "markdown",
   "id": "0bcff15b",
   "metadata": {},
   "source": [
    "## b)"
   ]
  },
  {
   "cell_type": "markdown",
   "id": "e380e6f4",
   "metadata": {},
   "source": [
    "The $k$-$NN$ algorithm is a very simple algorithm. It is called a \"lazy learner\" because it does not learn some sort of decision function, but memorizes the data instead.\n",
    "Therefore you have no \"training time\" for $k$-$NN$, but the predictions are more resource expensive."
   ]
  },
  {
   "cell_type": "markdown",
   "id": "41ec5e2e",
   "metadata": {},
   "source": [
    "## c)"
   ]
  },
  {
   "cell_type": "code",
   "execution_count": 24,
   "id": "687a507e",
   "metadata": {},
   "outputs": [
    {
     "name": "stdout",
     "output_type": "stream",
     "text": [
      "6        6.767892\n",
      "9        9.389712\n",
      "14       6.661408\n",
      "21       6.501583\n",
      "23       7.148095\n",
      "           ...   \n",
      "99973    7.429840\n",
      "99975    6.351645\n",
      "99978    5.631572\n",
      "99980    6.442350\n",
      "99997    6.829988\n",
      "Name: x, Length: 25007, dtype: float64\n"
     ]
    }
   ],
   "source": [
    "import numpy as np\n",
    "import pandas as pd\n",
    "\n",
    "S = pd.read_hdf(\"NeutrinoMC.hdf5\", key = \"Signal\")\n",
    "B = pd.read_hdf(\"NeutrinoMC.hdf5\", key = \"Background\")\n",
    "\n",
    "S.head()\n",
    "#B.head()\n",
    "#print(S[\"x\"][S[\"x\"].notna() * S[\"y\"].notna()])"
   ]
  },
  {
   "cell_type": "code",
   "execution_count": null,
   "id": "239fd0c5",
   "metadata": {},
   "outputs": [],
   "source": [
    "class KNN:\n",
    "    '''KNN Classifier.\n",
    "\n",
    "    Attributes\n",
    "    ----------\n",
    "    k : int\n",
    "        Number of neighbors to consider.\n",
    "    '''\n",
    "    def __init__(self, k):\n",
    "        '''Initialization.\n",
    "        Parameters are stored as member variables/attributes.\n",
    "        \n",
    "        Parameters\n",
    "        ----------\n",
    "        k : int\n",
    "            Number of neighbors to consider.\n",
    "        '''\n",
    "        self.k = k\n",
    "\n",
    "    def fit(self, X, y):\n",
    "        '''Fit routine.\n",
    "        Training data is stored within object.\n",
    "        \n",
    "        Parameters\n",
    "        ----------\n",
    "        X : numpy.array, shape=(n_samples, n_attributes)\n",
    "            Training data.\n",
    "        y : numpy.array shape=(n_samples)\n",
    "            Training labels.\n",
    "        '''\n",
    "        # Code\n",
    "\n",
    "    def predict(self, X):\n",
    "        '''Prediction routine.\n",
    "        Predict class association of each sample of X.\n",
    "        \n",
    "        Parameters\n",
    "        ----------\n",
    "        X : numpy.array, shape=(n_samples, n_attributes)\n",
    "            Data to classify.\n",
    "        \n",
    "        Returns\n",
    "        -------\n",
    "        prediction : numpy.array, shape=(n_samples)\n",
    "            Predictions, containing the predicted label of each sample.\n",
    "        '''\n",
    "        # Code\n",
    "        "
   ]
  }
 ],
 "metadata": {
  "kernelspec": {
   "display_name": "Python 3 (ipykernel)",
   "language": "python",
   "name": "python3"
  },
  "language_info": {
   "codemirror_mode": {
    "name": "ipython",
    "version": 3
   },
   "file_extension": ".py",
   "mimetype": "text/x-python",
   "name": "python",
   "nbconvert_exporter": "python",
   "pygments_lexer": "ipython3",
   "version": "3.10.4"
  }
 },
 "nbformat": 4,
 "nbformat_minor": 5
}
