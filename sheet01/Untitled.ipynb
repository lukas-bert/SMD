{
 "cells": [
  {
   "cell_type": "code",
   "execution_count": 1,
   "id": "6728a77c",
   "metadata": {},
   "outputs": [],
   "source": [
    "import numpy as np\n",
    "import matplotlib.pyplot as plt\n",
    "\n",
    "def f(x):\n",
    "    return (x**3 +1/3)-(x**3 -1/3)\n",
    "\n",
    "def g(x):\n",
    "    return ((3-x**3/3)-(3-x**3/3))/x**3"
   ]
  },
  {
   "cell_type": "code",
   "execution_count": 3,
   "id": "fc0fdf90",
   "metadata": {},
   "outputs": [
    {
     "name": "stdout",
     "output_type": "stream",
     "text": [
      "Deviates more than 1% for x >= :  41286\n",
      "Deviates more than 1% for x <= :  -41286\n"
     ]
    }
   ],
   "source": [
    "for x in range(0, 50000):\n",
    "    if np.abs(f(x)-2/3)/(2/3) >= 0.01:\n",
    "        print(\"Deviates more than 1% for x >= : \", x)\n",
    "        break\n",
    "        \n",
    "for x in range(0, 50000):\n",
    "    if np.abs(f(-x)-2/3)/(2/3) >= 0.01:\n",
    "        print(\"Deviates more than 1% for x <= : \", -x)\n",
    "        break\n",
    "        "
   ]
  },
  {
   "cell_type": "code",
   "execution_count": null,
   "id": "8a09873d",
   "metadata": {},
   "outputs": [],
   "source": []
  }
 ],
 "metadata": {
  "kernelspec": {
   "display_name": "Python 3 (ipykernel)",
   "language": "python",
   "name": "python3"
  },
  "language_info": {
   "codemirror_mode": {
    "name": "ipython",
    "version": 3
   },
   "file_extension": ".py",
   "mimetype": "text/x-python",
   "name": "python",
   "nbconvert_exporter": "python",
   "pygments_lexer": "ipython3",
   "version": "3.10.4"
  }
 },
 "nbformat": 4,
 "nbformat_minor": 5
}
