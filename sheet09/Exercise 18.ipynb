{
 "cells": [
  {
   "cell_type": "markdown",
   "id": "30d9c090",
   "metadata": {},
   "source": [
    "# Exercise 18"
   ]
  },
  {
   "cell_type": "markdown",
   "id": "27cfa964",
   "metadata": {},
   "source": [
    "## a)\n",
    "\n"
   ]
  },
  {
   "cell_type": "markdown",
   "id": "08536cf8",
   "metadata": {},
   "source": [
    "In general, features that show different values for the groups you want to seperate can be useful for a classification.\n",
    "Bad features show no connection to the group of the object they describe."
   ]
  },
  {
   "cell_type": "markdown",
   "id": "eefb7939",
   "metadata": {},
   "source": [
    "## b) -c)"
   ]
  },
  {
   "cell_type": "markdown",
   "id": "c3675277",
   "metadata": {},
   "source": [
    "I don't know how to access meaningfull attributes :/"
   ]
  },
  {
   "cell_type": "markdown",
   "id": "ffc3259c",
   "metadata": {},
   "source": [
    "## d)"
   ]
  },
  {
   "cell_type": "markdown",
   "id": "86586e78",
   "metadata": {},
   "source": [
    "A \"roc auc score\" of 0.5 means, that the classifier assigns randomly wether the event is a \"track\" or \"cascade\" particle.\n",
    "A set of features that results in a score of 0.5 is not associated with the particle type and therefore not useful for a classification.\n",
    "\n",
    "A \"roc auc score\" of 1 means, that the classifier perfectly seperates the events into the two groups."
   ]
  },
  {
   "cell_type": "markdown",
   "id": "94565da9",
   "metadata": {},
   "source": [
    "## e)"
   ]
  },
  {
   "cell_type": "markdown",
   "id": "672e09f0",
   "metadata": {},
   "source": [
    "A \"roc auc score\" lower than 0.5 can only be achieved by guessing wrong on purpose (or having a bug), since a score of 0.5 already can be achieved by guessing random.\n",
    "It can be fixed by inverting the classification."
   ]
  }
 ],
 "metadata": {
  "kernelspec": {
   "display_name": "Python 3 (ipykernel)",
   "language": "python",
   "name": "python3"
  },
  "language_info": {
   "codemirror_mode": {
    "name": "ipython",
    "version": 3
   },
   "file_extension": ".py",
   "mimetype": "text/x-python",
   "name": "python",
   "nbconvert_exporter": "python",
   "pygments_lexer": "ipython3",
   "version": "3.10.4"
  }
 },
 "nbformat": 4,
 "nbformat_minor": 5
}
