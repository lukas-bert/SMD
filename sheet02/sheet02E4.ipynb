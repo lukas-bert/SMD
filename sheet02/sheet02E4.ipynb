{
 "cells": [
  {
   "cell_type": "markdown",
   "id": "90fe6a3a",
   "metadata": {},
   "source": [
    "# Sheet 02"
   ]
  },
  {
   "cell_type": "markdown",
   "id": "764a190a",
   "metadata": {},
   "source": [
    "## Exercise 4 Maxwell velocity distribution"
   ]
  },
  {
   "cell_type": "markdown",
   "id": "ca3567a1",
   "metadata": {},
   "source": [
    "The normalisation constant can be determined by integrating over $f(v)$. This integral must be equal to one, so that the resulting function is a normalised probability density. Here and in the following it is sufficient to calculate the integrals form 0 to $\\infty$, because the function describes the absolute value of the velocity. $\\rightarrow v\\geq 0$\n",
    "\n",
    "\n",
    "$\\int_{0}^{\\infty} N \\mathrm{e}^{-\\frac{mv^2}{2k_bT}}4\\mathrm{\\pi} v^2 \\mathrm{d}x \\stackrel{!}{=} 1$"
   ]
  },
  {
   "cell_type": "markdown",
   "id": "cf60ebf6",
   "metadata": {},
   "source": [
    "After solving the integral the equation can be solved for N. \n",
    "\n",
    "\n",
    "$\\rightarrow N = \\frac{1}{\\left(2\\pi \\frac{k_bT}{m}\\right)^{\\frac{3}{2}}}$"
   ]
  },
  {
   "cell_type": "markdown",
   "id": "e7669395",
   "metadata": {},
   "source": [
    "### a)\n"
   ]
  },
  {
   "cell_type": "markdown",
   "id": "b7b27a8f",
   "metadata": {},
   "source": [
    "The most probable velocity is, where the function $f(v)$ reaches its maximum. So the most probable velocity is calculated by searching where the derivative of the distribution is equal to zero.\n",
    "\n",
    "\n",
    "$f'(v_m) =4\\mathrm{e}^{-\\frac{m v_m^2}{2kT}}\\frac{N\\pi v_m(2kT- m v_m^2)}{kT} = 0$\n",
    "\n",
    "\n",
    "$\\rightarrow$The most prbable velocity $v_m = \\sqrt{\\frac{2k_bT}{m}}$\n",
    "\n",
    "\n",
    "With this N can be expressed by using $v_m$.\n",
    "\n",
    "\n",
    "$\\rightarrow N = \\frac{1}{\\left(\\sqrt{\\pi} v_m^2\\right)^3}$"
   ]
  },
  {
   "cell_type": "markdown",
   "id": "a3e9babc",
   "metadata": {},
   "source": [
    "### b)"
   ]
  },
  {
   "cell_type": "markdown",
   "id": "a6853e07",
   "metadata": {},
   "source": [
    "The mean of a distribution is defined as $\\langle v\\rangle = \\int_{-\\infty}^{\\infty} vf(v)\\mathrm{d}v$. \n",
    "\n",
    "\n",
    "\n",
    "$\\langle v\\rangle = \\int_{0}^{\\infty} N \\mathrm{e}^{-\\frac{mv^2}{2k_bT}}4\\mathrm{\\pi} v^3 \\mathrm{d}x \n",
    "\\rightarrow \\langle v\\rangle = \\frac{8 N k_b^2 \\pi T^2}{m^2}\n",
    "\\rightarrow \\langle v\\rangle = \\frac{2}{\\sqrt{\\pi} v_m^2}$"
   ]
  },
  {
   "cell_type": "markdown",
   "id": "edf04824",
   "metadata": {},
   "source": [
    "### e)"
   ]
  },
  {
   "cell_type": "markdown",
   "id": "a0b5c1cb",
   "metadata": {},
   "source": [
    "The variance is defined as $\\mathrm{Var}(x) = \\int_{0}^{\\infty} \\left(x - \\mathrm{E}(x)\\right)^2 f(x) \\mathrm{d}x$.\n",
    "\n",
    "\n",
    "$\\mathrm{Var}(v) = \\int_{0}^{\\infty} (v - \\langle v\\rangle)^2(N\\mathrm{e}^{-\\frac{m v^2}{2kT})4\\pi v^2)}\\mathrm{d}v$\n",
    "\n",
    "With $\\mathrm{Var}(v) = \\sigma_v$ we can calculate the standard deviation.\n",
    "\n",
    "$\\sigma_v = \\sqrt{\\frac{2{\\pi}N\\cdot\\left(\\sqrt{\\pi T k m}\\left(\\sqrt{2}{\\langle v\\rangle}^2Tkm+3\\sqrt{2}\\,T^2k^2\\right)-8\\langle v\\rangle T^2k^2m\\right)}{m^3}}$"
   ]
  }
 ],
 "metadata": {
  "kernelspec": {
   "display_name": "Python 3 (ipykernel)",
   "language": "python",
   "name": "python3"
  },
  "language_info": {
   "codemirror_mode": {
    "name": "ipython",
    "version": 3
   },
   "file_extension": ".py",
   "mimetype": "text/x-python",
   "name": "python",
   "nbconvert_exporter": "python",
   "pygments_lexer": "ipython3",
   "version": "3.10.4"
  }
 },
 "nbformat": 4,
 "nbformat_minor": 5
}
