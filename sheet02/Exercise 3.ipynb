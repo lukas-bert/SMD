{
 "cells": [
  {
   "cell_type": "markdown",
   "id": "b90b570d",
   "metadata": {},
   "source": [
    "## Exercise 3: Dice\n",
    "#### a)"
   ]
  },
  {
   "cell_type": "markdown",
   "id": "02d2490a",
   "metadata": {},
   "source": [
    "$P(W_\\text{red} + W_\\text{blue} = 9) = \\frac{4}{36} =\\frac{1}{9}$ "
   ]
  },
  {
   "cell_type": "markdown",
   "id": "fe563c9a",
   "metadata": {},
   "source": [
    "$6\\cdot6 = 36$ possible, equally probable events, out of which 4 lead to a sum of 9 ([4,5],[5,4],[3,6],[6,3])"
   ]
  },
  {
   "cell_type": "code",
   "execution_count": 9,
   "id": "e45340f4",
   "metadata": {},
   "outputs": [
    {
     "name": "stdout",
     "output_type": "stream",
     "text": [
      "Propability in %:  11.11111111111111 %\n"
     ]
    }
   ],
   "source": [
    "print(\"Propability in %: \", 1/9*100, \"%\")"
   ]
  },
  {
   "cell_type": "markdown",
   "id": "f22bbc45",
   "metadata": {},
   "source": [
    "#### b)"
   ]
  },
  {
   "cell_type": "markdown",
   "id": "2b79e42c",
   "metadata": {},
   "source": [
    "$P(W_\\text{red} + W_\\text{blue} \\geq 9) = P(\\text{sum} = 9) + P(\\text{sum} = 10) + P(\\text{sum} = 11) + P(\\text{sum} = 12) = \\frac{4}{36} + \\frac{3}{36} + \\frac{2}{36}+ \\frac{1}{36} = \\frac{5}{18}$ \n",
    "\n",
    "4 events lead to a sum of 9, 3 to a sum of 10, 2 to a sum of 11 and only one [6,6] to a sum of 12"
   ]
  },
  {
   "cell_type": "code",
   "execution_count": 10,
   "id": "6bc0fb5c",
   "metadata": {},
   "outputs": [
    {
     "name": "stdout",
     "output_type": "stream",
     "text": [
      "Propability in %:  27.77777777777778 %\n"
     ]
    }
   ],
   "source": [
    "print(\"Propability in %: \", 5/18*100, \"%\")"
   ]
  },
  {
   "cell_type": "markdown",
   "id": "8704893d",
   "metadata": {},
   "source": [
    "#### c)"
   ]
  },
  {
   "cell_type": "markdown",
   "id": "75c85db6",
   "metadata": {},
   "source": [
    "2 possible combinations ([5,4],[4,5])"
   ]
  },
  {
   "cell_type": "markdown",
   "id": "668160a0",
   "metadata": {},
   "source": [
    "$P([5,4],[4,5]) = \\frac{1}{18}$"
   ]
  },
  {
   "cell_type": "code",
   "execution_count": 11,
   "id": "9f98f5c4",
   "metadata": {},
   "outputs": [
    {
     "name": "stdout",
     "output_type": "stream",
     "text": [
      "Propability in %:  5.555555555555555 %\n"
     ]
    }
   ],
   "source": [
    "print(\"Propability in %: \", 1/18*100, \"%\")"
   ]
  },
  {
   "cell_type": "markdown",
   "id": "75054bf1",
   "metadata": {},
   "source": [
    "#### d)"
   ]
  },
  {
   "cell_type": "markdown",
   "id": "909f87f0",
   "metadata": {},
   "source": [
    "$P(W_\\text{red} = 4 \\wedge W_\\text{blue} = 5) = \\frac{1}{36}$\n",
    "\n",
    "1 out of 36 possible events"
   ]
  },
  {
   "cell_type": "code",
   "execution_count": 12,
   "id": "630d960c",
   "metadata": {},
   "outputs": [
    {
     "name": "stdout",
     "output_type": "stream",
     "text": [
      "Propability in %:  2.7777777777777777 %\n"
     ]
    }
   ],
   "source": [
    "print(\"Propability in %: \", 1/36*100, \"%\")"
   ]
  },
  {
   "cell_type": "markdown",
   "id": "e4a24c03",
   "metadata": {},
   "source": [
    "#### e)"
   ]
  },
  {
   "cell_type": "markdown",
   "id": "4a80fef8",
   "metadata": {},
   "source": [
    "$P(W_\\text{red} + W_\\text{blue} = 9 | W_\\text{red} = 4) = P(W_\\text{blue} = 5) = \\frac{1}{6}$"
   ]
  },
  {
   "cell_type": "code",
   "execution_count": 13,
   "id": "22c0e5ea",
   "metadata": {},
   "outputs": [
    {
     "name": "stdout",
     "output_type": "stream",
     "text": [
      "Propability in %:  16.666666666666664 %\n"
     ]
    }
   ],
   "source": [
    "print(\"Propability in %: \", 1/6*100, \"%\")"
   ]
  },
  {
   "cell_type": "markdown",
   "id": "67159dbe",
   "metadata": {},
   "source": [
    "#### f)"
   ]
  },
  {
   "cell_type": "markdown",
   "id": "0895f4e8",
   "metadata": {},
   "source": [
    "$P(W_\\text{red} + W_\\text{blue} \\geq 9 | W_\\text{red} = 4) = P(W_\\text{blue} \\geq 5 ) = \\frac{2}{6} = \\frac{1}{3}$"
   ]
  },
  {
   "cell_type": "code",
   "execution_count": 14,
   "id": "ada9f02c",
   "metadata": {},
   "outputs": [
    {
     "name": "stdout",
     "output_type": "stream",
     "text": [
      "Propability in %:  33.33333333333333 %\n"
     ]
    }
   ],
   "source": [
    "print(\"Propability in %: \", 1/3*100, \"%\")"
   ]
  },
  {
   "cell_type": "markdown",
   "id": "ef1bbb89",
   "metadata": {},
   "source": [
    "#### g)"
   ]
  },
  {
   "cell_type": "markdown",
   "id": "a42a7b18",
   "metadata": {},
   "source": [
    "same as e)"
   ]
  },
  {
   "cell_type": "code",
   "execution_count": 15,
   "id": "91f9873d",
   "metadata": {},
   "outputs": [
    {
     "name": "stdout",
     "output_type": "stream",
     "text": [
      "Propability in %:  16.666666666666664 %\n"
     ]
    }
   ],
   "source": [
    "print(\"Propability in %: \", 1/6*100, \"%\")"
   ]
  }
 ],
 "metadata": {
  "kernelspec": {
   "display_name": "Python 3 (ipykernel)",
   "language": "python",
   "name": "python3"
  },
  "language_info": {
   "codemirror_mode": {
    "name": "ipython",
    "version": 3
   },
   "file_extension": ".py",
   "mimetype": "text/x-python",
   "name": "python",
   "nbconvert_exporter": "python",
   "pygments_lexer": "ipython3",
   "version": "3.10.4"
  }
 },
 "nbformat": 4,
 "nbformat_minor": 5
}
