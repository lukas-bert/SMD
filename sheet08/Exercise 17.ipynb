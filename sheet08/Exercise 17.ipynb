{
 "cells": [
  {
   "cell_type": "markdown",
   "id": "d2b8ac9c",
   "metadata": {},
   "source": [
    "# Exercise 17"
   ]
  },
  {
   "cell_type": "markdown",
   "id": "3d9d25ca",
   "metadata": {},
   "source": [
    "### c)"
   ]
  },
  {
   "cell_type": "code",
   "execution_count": 2,
   "id": "2f18f0c3",
   "metadata": {},
   "outputs": [
    {
     "data": {
      "text/plain": [
       "5"
      ]
     },
     "execution_count": 2,
     "metadata": {},
     "output_type": "execute_result"
    }
   ],
   "source": [
    "import pandas as pd\n",
    "import matplotlib.pyplot as plt\n",
    "import numpy as np\n",
    "\n",
    "Y = pd.read_csv(\"soccer.csv\")\n",
    "\n",
    "def log(p):\n",
    "    return p*np.log2(p)\n",
    "\n",
    "\n",
    "Z =[Y['weather_forecast'][0]]\n",
    "\n",
    "\n",
    "for i in range(len(Y)):\n",
    "    if Y['weather_forecast'][i] not in Z:\n",
    "        Z.append(Y['weather_forecast'][i])\n",
    "        \n",
    "Z[2]\n",
    "\n",
    "len(Y[\"weather_forecast\"][Y[\"weather_forecast\"] == \"sunny\"])\n",
    "\n",
    "#Z = enumerate(Z)\n",
    "        \n",
    "#for counter, value in Z:\n",
    "#    print(counter, value)"
   ]
  },
  {
   "cell_type": "code",
   "execution_count": 4,
   "id": "c4b5c45e",
   "metadata": {},
   "outputs": [
    {
     "name": "stdout",
     "output_type": "stream",
     "text": [
      "0.9402859586706311 1.5774062828523454\n"
     ]
    },
    {
     "name": "stderr",
     "output_type": "stream",
     "text": [
      "/tmp/ipykernel_120/992042126.py:8: RuntimeWarning: divide by zero encountered in log2\n",
      "  return p*np.log2(p)\n",
      "/tmp/ipykernel_120/992042126.py:8: RuntimeWarning: invalid value encountered in double_scalars\n",
      "  return p*np.log2(p)\n"
     ]
    },
    {
     "data": {
      "image/png": "[encoded data removed]",
      "text/plain": [
       "<Figure size 432x288 with 1 Axes>"
      ]
     },
     "metadata": {
      "needs_background": "light"
     },
     "output_type": "display_data"
    }
   ],
   "source": [
    "def H_Y(Y, at, Z): # at: attribute, Z: list of different values of attribute\n",
    "    entropy = 0\n",
    "    length = len(Y)\n",
    "    for i in range(len(Z)):\n",
    "        n = len(Y[at][Y[at] == Z[i]])\n",
    "        entropy = entropy -n/length * np.log2(n/length)\n",
    "    return entropy\n",
    "a = H_Y(Y, \"soccer\", [True, False])  \n",
    "b = H_Y(Y, \"weather_forecast\", [\"cloudy\", \"rainy\", \"sunny\"])\n",
    "print(a, b)\n",
    "\n",
    "\n",
    "def IG_cardinal(Y, at, cut, dt):     # at: attribute, dt: decision target\n",
    "    n = len(Y)\n",
    "    p = len(Y[Y[dt] == True])/n # propability of decision target = True\n",
    "    h_y = -(log(p) + log(1-p))\n",
    "    \n",
    "    subspace1 = Y[Y[at] <= cut]\n",
    "    subspace2 = Y[Y[at] > cut]\n",
    "    n1 = len(subspace1)\n",
    "    n2 = n - n1\n",
    "    \n",
    "    p11 = len(subspace1[subspace1[dt] == True])/n1\n",
    "    p12 = len(subspace1[subspace1[dt] == False])/n1\n",
    "    \n",
    "    p21 = len(subspace2[subspace2[dt] == True])/n2\n",
    "    p22 = len(subspace2[subspace2[dt] == False])/n2\n",
    "    \n",
    "    h_yx = -n1/n*(log(p11) + log(p12)) - n2/n*(log(p21) + log(p22))\n",
    "    \n",
    "    return h_y - h_yx\n",
    "IG_cardinal(Y, \"temperature\", 28, \"soccer\")    \n",
    "IG_cardinal(Y, \"humidity\", 80, \"soccer\") \n",
    "\n",
    "def IG_nominal(Y, at, dt, cut):\n",
    "    a = b\n",
    "\n",
    "fig, axs = plt.subplots(1,1)\n",
    "\n",
    "cuts = np.linspace(17.9, 29.3, 200)\n",
    "\n",
    "for i in range(len(cuts)):\n",
    "    axs.plot(cuts[i], IG_cardinal(Y, \"temperature\", cuts[i], \"soccer\"), marker = \".\", color = \"blue\")\n",
    "    \n",
    "cuts2 = np.linspace(66, 95, 20)\n",
    "\n",
    "for i in range(len(cuts2)):\n",
    "    axs.plot(cuts2[i], IG_cardinal(Y, \"humidity\", cuts2[i], \"soccer\"), marker = \".\", color = \"green\")"
   ]
  },
  {
   "cell_type": "code",
   "execution_count": null,
   "id": "cd5dd4cb",
   "metadata": {},
   "outputs": [],
   "source": []
  }
 ],
 "metadata": {
  "kernelspec": {
   "display_name": "Python 3 (ipykernel)",
   "language": "python",
   "name": "python3"
  },
  "language_info": {
   "codemirror_mode": {
    "name": "ipython",
    "version": 3
   },
   "file_extension": ".py",
   "mimetype": "text/x-python",
   "name": "python",
   "nbconvert_exporter": "python",
   "pygments_lexer": "ipython3",
   "version": "3.10.4"
  }
 },
 "nbformat": 4,
 "nbformat_minor": 5
}
