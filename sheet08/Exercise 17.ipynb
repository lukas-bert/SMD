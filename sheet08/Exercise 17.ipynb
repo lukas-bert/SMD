{
 "cells": [
  {
   "cell_type": "markdown",
   "id": "d2b8ac9c",
   "metadata": {},
   "source": [
    "# Exercise 17"
   ]
  },
  {
   "cell_type": "markdown",
   "id": "3d9d25ca",
   "metadata": {},
   "source": [
    "### c)"
   ]
  },
  {
   "cell_type": "code",
   "execution_count": 1,
   "id": "2f18f0c3",
   "metadata": {},
   "outputs": [
    {
     "name": "stdout",
     "output_type": "stream",
     "text": [
      "0.003184853044648994\n",
      "0.22600024438491684\n",
      "0.10224356360985076\n"
     ]
    }
   ],
   "source": [
    "import pandas as pd\n",
    "import matplotlib.pyplot as plt\n",
    "import numpy as np\n",
    "\n",
    "Y = pd.read_csv(\"soccer.csv\")\n",
    "\n",
    "def log(p):       # help-function to calculate log expression for entropy\n",
    "    if p == 0:\n",
    "        return 0\n",
    "    return p*np.log2(p)\n",
    "\n",
    "def H_Y(Y, dt):  # calculate entropy of dataset Y on decision target dt\n",
    "    n = len(Y)\n",
    "    p = len(Y[Y[dt] == True])/n     # propability of decision target = True\n",
    "    return -(log(p) + log(1-p))     \n",
    "\n",
    "def H_YX(Y, dt, subspace1, subspace2):  # entropy of Y under condition X, subspaces: seperation of Y according to X\n",
    "    n = len(Y)\n",
    "    n1 = len(subspace1)\n",
    "    n2 = n - n1\n",
    "    \n",
    "    # propabilities \n",
    "    p11, p12, p21, p22 = [0,0,0,0]\n",
    "    \n",
    "    if n1 != 0: # avoid devision by 0\n",
    "        p11 = len(subspace1[subspace1[dt] == True])/n1\n",
    "        p12 = len(subspace1[subspace1[dt] == False])/n1\n",
    "    \n",
    "    if n2 != 0:\n",
    "        p21 = len(subspace2[subspace2[dt] == True])/n2\n",
    "        p22 = len(subspace2[subspace2[dt] == False])/n2\n",
    "    \n",
    "    return -n1/n*(log(p11) + log(p12)) - n2/n*(log(p21) + log(p22))\n",
    "\n",
    "# information-gain of cardinal attribute\n",
    "def IG_cardinal(Y, at, cut, dt):     # at: attribute, dt: decision target, cut: value of cut\n",
    "    h_y = H_Y(Y, dt)\n",
    "    n = len(Y)\n",
    "    \n",
    "    # dividing Y in 2 subspaces\n",
    "    subspace1 = Y[Y[at] <= cut]\n",
    "    subspace2 = Y[Y[at] > cut]\n",
    "    \n",
    "    h_yx = H_YX(Y, dt, subspace1, subspace2)\n",
    "\n",
    "    return h_y - h_yx\n",
    "\n",
    "# information-gain of nominal attribute\n",
    "def IG_nominal(Y, at, dt, cut):\n",
    "    h_y = H_Y(Y, dt)\n",
    "    n = len(Y)\n",
    "    \n",
    "    a = np.zeros(len(Y), dtype = bool)\n",
    "\n",
    "    for i in range(len(Y)):\n",
    "        if Y[\"weather_forecast\"][i] in cut:\n",
    "            a[i] = True \n",
    "    \n",
    "    subspace1 = Y[a]\n",
    "    subspace2 = Y[a == False]\n",
    "    \n",
    "    h_yx = H_YX(Y, dt, subspace1, subspace2)\n",
    "    \n",
    "    return h_y - h_yx\n",
    "\n",
    "print(IG_nominal(Y, \"weather_forecast\", \"soccer\", [\"rainy\"]))\n",
    "print(IG_nominal(Y, \"weather_forecast\", \"soccer\", [\"cloudy\"]))\n",
    "print(IG_nominal(Y, \"weather_forecast\", \"soccer\", [\"sunny\"]))"
   ]
  },
  {
   "cell_type": "code",
   "execution_count": 2,
   "id": "c4b5c45e",
   "metadata": {},
   "outputs": [
    {
     "data": {
      "text/plain": [
       "Text(0.5, 1.0, 'weather forecast')"
      ]
     },
     "execution_count": 2,
     "metadata": {},
     "output_type": "execute_result"
    },
    {
     "data": {
      "image/png": "[encoded data removed]",
      "text/plain": [
       "<Figure size 432x288 with 1 Axes>"
      ]
     },
     "metadata": {
      "needs_background": "light"
     },
     "output_type": "display_data"
    },
    {
     "data": {
      "image/png": "[encoded data removed]",
      "text/plain": [
       "<Figure size 432x288 with 1 Axes>"
      ]
     },
     "metadata": {
      "needs_background": "light"
     },
     "output_type": "display_data"
    },
    {
     "data": {
      "image/png": "[encoded data removed]",
      "text/plain": [
       "<Figure size 432x288 with 1 Axes>"
      ]
     },
     "metadata": {
      "needs_background": "light"
     },
     "output_type": "display_data"
    }
   ],
   "source": [
    "# plots    \n",
    "  \n",
    "# plot for attribute temperature    \n",
    "fig, axs = plt.subplots()\n",
    "\n",
    "cuts = np.linspace(17.9, 29.3, 200)\n",
    "\n",
    "for i in range(len(cuts)):\n",
    "    axs.plot(cuts[i], IG_cardinal(Y, \"temperature\", cuts[i], \"soccer\"), marker = \".\", color = \"lightcoral\")\n",
    "\n",
    "plt.grid()  \n",
    "axs.set_xlabel(\"Cuts\")\n",
    "axs.set_ylabel(\"Information Gain\")  \n",
    "axs.set_title(\"Temperature\")\n",
    " \n",
    "\n",
    "# plot for attribute humidity    \n",
    "fig2, axs2 = plt.subplots()\n",
    "    \n",
    "cuts2 = np.linspace(66, 95, 200)\n",
    "\n",
    "for i in range(len(cuts2)):\n",
    "    axs2.plot(cuts2[i], IG_cardinal(Y, \"humidity\", cuts2[i], \"soccer\"), marker = \".\", color = \"cornflowerblue\")\n",
    "    \n",
    "plt.grid()  \n",
    "axs2.set_xlabel(\"Cuts\")\n",
    "axs2.set_ylabel(\"Information Gain\")   \n",
    "axs2.set_title(\"Humidity\")\n",
    "\n",
    "# plot for weather forecast\n",
    "fig2, axs2 = plt.subplots()\n",
    "\n",
    "axs2.bar(1, IG_nominal(Y, \"weather_forecast\", \"soccer\", [\"rainy\"]), color = \"cornflowerblue\")\n",
    "axs2.bar(2, IG_nominal(Y, \"weather_forecast\", \"soccer\", [\"cloudy\"]), color = \"lightslategrey\")\n",
    "axs2.bar(3, IG_nominal(Y, \"weather_forecast\", \"soccer\", [\"sunny\"]), color = \"gold\")\n",
    "\n",
    "axs2.set_xticks([1, 2, 3], [\"rainy\", \"cloudy\", \"sunny\"])\n",
    "axs2.set_ylabel(\"Information Gain\") \n",
    "axs2.set_title(\"weather forecast\")"
   ]
  },
  {
   "cell_type": "markdown",
   "id": "fe53aba4",
   "metadata": {},
   "source": [
    "### d)"
   ]
  },
  {
   "cell_type": "code",
   "execution_count": 3,
   "id": "1f286f3d",
   "metadata": {},
   "outputs": [
    {
     "name": "stdout",
     "output_type": "stream",
     "text": [
      "0.22600024438491684\n"
     ]
    }
   ],
   "source": [
    " print(IG_nominal(Y, \"weather_forecast\", \"soccer\", [\"cloudy\"]))"
   ]
  },
  {
   "cell_type": "markdown",
   "id": "d0dc964a",
   "metadata": {},
   "source": [
    "The attribute \"weather forecast\" is suited best to derive a decision, since the information gain reaches a maximum of 0.23\n",
    "for a cut between \"cloudy\" and \"sunny\", \"rainy\" weather conditions.\n",
    "No other attribute reaches a higher information gain for any cut."
   ]
  }
 ],
 "metadata": {
  "kernelspec": {
   "display_name": "Python 3 (ipykernel)",
   "language": "python",
   "name": "python3"
  },
  "language_info": {
   "codemirror_mode": {
    "name": "ipython",
    "version": 3
   },
   "file_extension": ".py",
   "mimetype": "text/x-python",
   "name": "python",
   "nbconvert_exporter": "python",
   "pygments_lexer": "ipython3",
   "version": "3.10.4"
  }
 },
 "nbformat": 4,
 "nbformat_minor": 5
}
